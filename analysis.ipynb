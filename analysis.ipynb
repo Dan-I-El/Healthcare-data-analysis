{
 "cells": [
  {
   "cell_type": "code",
   "execution_count": 1,
   "id": "809998f7-42a7-4838-8c25-ca6fe765bd64",
   "metadata": {
    "tags": []
   },
   "outputs": [],
   "source": [
    "import numpy as np\n",
    "import pandas as pd\n",
    "from matplotlib import pyplot as plt"
   ]
  },
  {
   "cell_type": "code",
   "execution_count": 2,
   "id": "e6973930-2cc3-4852-bc47-0d6cfced2540",
   "metadata": {
    "tags": []
   },
   "outputs": [],
   "source": [
    "df = pd.read_csv(\"data.csv\")"
   ]
  },
  {
   "cell_type": "code",
   "execution_count": 3,
   "id": "ae31c348-ba3b-4541-aaa8-6da3748768ca",
   "metadata": {
    "tags": []
   },
   "outputs": [
    {
     "data": {
      "text/plain": [
       "(10000, 13)"
      ]
     },
     "execution_count": 3,
     "metadata": {},
     "output_type": "execute_result"
    }
   ],
   "source": [
    "df.shape"
   ]
  },
  {
   "cell_type": "code",
   "execution_count": 4,
   "id": "b63059eb-6e86-46a8-9637-5916fd5d6484",
   "metadata": {
    "tags": []
   },
   "outputs": [
    {
     "data": {
      "text/html": [
       "<div>\n",
       "<style scoped>\n",
       "    .dataframe tbody tr th:only-of-type {\n",
       "        vertical-align: middle;\n",
       "    }\n",
       "\n",
       "    .dataframe tbody tr th {\n",
       "        vertical-align: top;\n",
       "    }\n",
       "\n",
       "    .dataframe thead th {\n",
       "        text-align: right;\n",
       "    }\n",
       "</style>\n",
       "<table border=\"1\" class=\"dataframe\">\n",
       "  <thead>\n",
       "    <tr style=\"text-align: right;\">\n",
       "      <th></th>\n",
       "      <th>age</th>\n",
       "      <th>gender</th>\n",
       "      <th>blood_type</th>\n",
       "      <th>medical_condition</th>\n",
       "      <th>date_of_admission</th>\n",
       "      <th>doctor</th>\n",
       "      <th>hospital</th>\n",
       "      <th>insurance_provider</th>\n",
       "      <th>billing_amount</th>\n",
       "      <th>admission_type</th>\n",
       "      <th>discharge_date</th>\n",
       "      <th>medication</th>\n",
       "      <th>test_results</th>\n",
       "    </tr>\n",
       "  </thead>\n",
       "  <tbody>\n",
       "    <tr>\n",
       "      <th>3832</th>\n",
       "      <td>37</td>\n",
       "      <td>Female</td>\n",
       "      <td>A+</td>\n",
       "      <td>Asthma</td>\n",
       "      <td>2023-07-24</td>\n",
       "      <td>Garrett Brock</td>\n",
       "      <td>Barnett, Norman and Meyer</td>\n",
       "      <td>Aetna</td>\n",
       "      <td>45316.818431</td>\n",
       "      <td>Elective</td>\n",
       "      <td>2023-08-22</td>\n",
       "      <td>Penicillin</td>\n",
       "      <td>Abnormal</td>\n",
       "    </tr>\n",
       "    <tr>\n",
       "      <th>5667</th>\n",
       "      <td>64</td>\n",
       "      <td>Female</td>\n",
       "      <td>AB-</td>\n",
       "      <td>Cancer</td>\n",
       "      <td>2022-05-27</td>\n",
       "      <td>Julian Cooper</td>\n",
       "      <td>Wagner, Rodriguez and Walls</td>\n",
       "      <td>Blue Cross</td>\n",
       "      <td>12251.998893</td>\n",
       "      <td>Elective</td>\n",
       "      <td>2022-06-18</td>\n",
       "      <td>Paracetamol</td>\n",
       "      <td>Abnormal</td>\n",
       "    </tr>\n",
       "    <tr>\n",
       "      <th>683</th>\n",
       "      <td>79</td>\n",
       "      <td>Male</td>\n",
       "      <td>A+</td>\n",
       "      <td>Hypertension</td>\n",
       "      <td>2023-02-19</td>\n",
       "      <td>Kendra Shields</td>\n",
       "      <td>Macdonald, Graves and English</td>\n",
       "      <td>Cigna</td>\n",
       "      <td>43699.093392</td>\n",
       "      <td>Emergency</td>\n",
       "      <td>2023-03-06</td>\n",
       "      <td>Penicillin</td>\n",
       "      <td>Abnormal</td>\n",
       "    </tr>\n",
       "    <tr>\n",
       "      <th>8044</th>\n",
       "      <td>19</td>\n",
       "      <td>Male</td>\n",
       "      <td>A-</td>\n",
       "      <td>Obesity</td>\n",
       "      <td>2023-06-01</td>\n",
       "      <td>Jennifer Potts</td>\n",
       "      <td>Mitchell-Bates</td>\n",
       "      <td>Aetna</td>\n",
       "      <td>28633.651511</td>\n",
       "      <td>Emergency</td>\n",
       "      <td>2023-06-11</td>\n",
       "      <td>Ibuprofen</td>\n",
       "      <td>Abnormal</td>\n",
       "    </tr>\n",
       "    <tr>\n",
       "      <th>8707</th>\n",
       "      <td>24</td>\n",
       "      <td>Female</td>\n",
       "      <td>A-</td>\n",
       "      <td>Obesity</td>\n",
       "      <td>2023-07-11</td>\n",
       "      <td>Brandon Cantrell</td>\n",
       "      <td>Winters-Braun</td>\n",
       "      <td>Blue Cross</td>\n",
       "      <td>2894.033296</td>\n",
       "      <td>Elective</td>\n",
       "      <td>2023-08-10</td>\n",
       "      <td>Paracetamol</td>\n",
       "      <td>Inconclusive</td>\n",
       "    </tr>\n",
       "  </tbody>\n",
       "</table>\n",
       "</div>"
      ],
      "text/plain": [
       "      age  gender blood_type medical_condition date_of_admission  \\\n",
       "3832   37  Female         A+            Asthma        2023-07-24   \n",
       "5667   64  Female        AB-            Cancer        2022-05-27   \n",
       "683    79    Male         A+      Hypertension        2023-02-19   \n",
       "8044   19    Male         A-           Obesity        2023-06-01   \n",
       "8707   24  Female         A-           Obesity        2023-07-11   \n",
       "\n",
       "                doctor                       hospital insurance_provider  \\\n",
       "3832     Garrett Brock      Barnett, Norman and Meyer              Aetna   \n",
       "5667     Julian Cooper    Wagner, Rodriguez and Walls         Blue Cross   \n",
       "683     Kendra Shields  Macdonald, Graves and English              Cigna   \n",
       "8044    Jennifer Potts                 Mitchell-Bates              Aetna   \n",
       "8707  Brandon Cantrell                  Winters-Braun         Blue Cross   \n",
       "\n",
       "      billing_amount admission_type discharge_date   medication  test_results  \n",
       "3832    45316.818431       Elective     2023-08-22   Penicillin      Abnormal  \n",
       "5667    12251.998893       Elective     2022-06-18  Paracetamol      Abnormal  \n",
       "683     43699.093392      Emergency     2023-03-06   Penicillin      Abnormal  \n",
       "8044    28633.651511      Emergency     2023-06-11    Ibuprofen      Abnormal  \n",
       "8707     2894.033296       Elective     2023-08-10  Paracetamol  Inconclusive  "
      ]
     },
     "execution_count": 4,
     "metadata": {},
     "output_type": "execute_result"
    }
   ],
   "source": [
    "df.sample(5)"
   ]
  },
  {
   "cell_type": "code",
   "execution_count": 5,
   "id": "7b5148c1-4fe6-431c-8db2-1d0d6329e193",
   "metadata": {
    "tags": []
   },
   "outputs": [
    {
     "name": "stdout",
     "output_type": "stream",
     "text": [
      "<class 'pandas.core.frame.DataFrame'>\n",
      "RangeIndex: 10000 entries, 0 to 9999\n",
      "Data columns (total 13 columns):\n",
      " #   Column              Non-Null Count  Dtype  \n",
      "---  ------              --------------  -----  \n",
      " 0   age                 10000 non-null  int64  \n",
      " 1   gender              10000 non-null  object \n",
      " 2   blood_type          10000 non-null  object \n",
      " 3   medical_condition   10000 non-null  object \n",
      " 4   date_of_admission   10000 non-null  object \n",
      " 5   doctor              10000 non-null  object \n",
      " 6   hospital            10000 non-null  object \n",
      " 7   insurance_provider  10000 non-null  object \n",
      " 8   billing_amount      10000 non-null  float64\n",
      " 9   admission_type      10000 non-null  object \n",
      " 10  discharge_date      10000 non-null  object \n",
      " 11  medication          10000 non-null  object \n",
      " 12  test_results        10000 non-null  object \n",
      "dtypes: float64(1), int64(1), object(11)\n",
      "memory usage: 1015.8+ KB\n"
     ]
    }
   ],
   "source": [
    "df.info()"
   ]
  },
  {
   "cell_type": "code",
   "execution_count": 6,
   "id": "8b81c4a6-53e1-4faf-941c-052d47547d69",
   "metadata": {
    "tags": []
   },
   "outputs": [
    {
     "data": {
      "text/html": [
       "<div>\n",
       "<style scoped>\n",
       "    .dataframe tbody tr th:only-of-type {\n",
       "        vertical-align: middle;\n",
       "    }\n",
       "\n",
       "    .dataframe tbody tr th {\n",
       "        vertical-align: top;\n",
       "    }\n",
       "\n",
       "    .dataframe thead th {\n",
       "        text-align: right;\n",
       "    }\n",
       "</style>\n",
       "<table border=\"1\" class=\"dataframe\">\n",
       "  <thead>\n",
       "    <tr style=\"text-align: right;\">\n",
       "      <th></th>\n",
       "      <th>age</th>\n",
       "      <th>billing_amount</th>\n",
       "    </tr>\n",
       "  </thead>\n",
       "  <tbody>\n",
       "    <tr>\n",
       "      <th>count</th>\n",
       "      <td>10000.000000</td>\n",
       "      <td>10000.000000</td>\n",
       "    </tr>\n",
       "    <tr>\n",
       "      <th>mean</th>\n",
       "      <td>51.452200</td>\n",
       "      <td>25516.806778</td>\n",
       "    </tr>\n",
       "    <tr>\n",
       "      <th>std</th>\n",
       "      <td>19.588974</td>\n",
       "      <td>14067.292709</td>\n",
       "    </tr>\n",
       "    <tr>\n",
       "      <th>min</th>\n",
       "      <td>18.000000</td>\n",
       "      <td>1000.180837</td>\n",
       "    </tr>\n",
       "    <tr>\n",
       "      <th>25%</th>\n",
       "      <td>35.000000</td>\n",
       "      <td>13506.523967</td>\n",
       "    </tr>\n",
       "    <tr>\n",
       "      <th>50%</th>\n",
       "      <td>52.000000</td>\n",
       "      <td>25258.112566</td>\n",
       "    </tr>\n",
       "    <tr>\n",
       "      <th>75%</th>\n",
       "      <td>68.000000</td>\n",
       "      <td>37733.913727</td>\n",
       "    </tr>\n",
       "    <tr>\n",
       "      <th>max</th>\n",
       "      <td>85.000000</td>\n",
       "      <td>49995.902283</td>\n",
       "    </tr>\n",
       "  </tbody>\n",
       "</table>\n",
       "</div>"
      ],
      "text/plain": [
       "                age  billing_amount\n",
       "count  10000.000000    10000.000000\n",
       "mean      51.452200    25516.806778\n",
       "std       19.588974    14067.292709\n",
       "min       18.000000     1000.180837\n",
       "25%       35.000000    13506.523967\n",
       "50%       52.000000    25258.112566\n",
       "75%       68.000000    37733.913727\n",
       "max       85.000000    49995.902283"
      ]
     },
     "execution_count": 6,
     "metadata": {},
     "output_type": "execute_result"
    }
   ],
   "source": [
    "df.describe()"
   ]
  },
  {
   "cell_type": "markdown",
   "id": "97b02d8e-dfbe-4da2-b132-f6ee8852e278",
   "metadata": {},
   "source": [
    "- how age depends on medical condition;\n",
    "- how age depends on billing amount;\n",
    "- how age depends on admission type;\n",
    "- how test results depends on age;\n",
    "- how blood type depends on gender;\n",
    "- how medical condition depends on gender (with age);\n",
    "- how admission type depends on age;\n",
    "- how blood type depends on meidcal condition;\n",
    "- how blood type depends on admission type, medication, test results;\n",
    "- how medical condition, admission type depends on time spent in hospital;\n",
    "- how medical condition depends on billing amount;\n",
    "- how medical condition depends on admission type;\n",
    "- how billing amount, medication depends on doctor;\n",
    "- how admission type depends on medication, test results;\n",
    "- how medication depends on test results;"
   ]
  },
  {
   "cell_type": "markdown",
   "id": "d1e42e29-0be5-4a35-adce-a175c163345b",
   "metadata": {
    "jp-MarkdownHeadingCollapsed": true,
    "tags": []
   },
   "source": [
    "# Medical condition vs Age"
   ]
  },
  {
   "cell_type": "code",
   "execution_count": 7,
   "id": "e15a37df-d206-4d98-bdb1-ff9d6779a42d",
   "metadata": {
    "tags": []
   },
   "outputs": [
    {
     "data": {
      "text/plain": [
       "medical_condition\n",
       "Asthma          1708\n",
       "Cancer          1703\n",
       "Hypertension    1688\n",
       "Arthritis       1650\n",
       "Obesity         1628\n",
       "Diabetes        1623\n",
       "Name: count, dtype: int64"
      ]
     },
     "execution_count": 7,
     "metadata": {},
     "output_type": "execute_result"
    }
   ],
   "source": [
    "df[\"medical_condition\"].value_counts()"
   ]
  },
  {
   "cell_type": "markdown",
   "id": "de42f01a-960b-48fc-a8a2-ba71a8633690",
   "metadata": {
    "tags": []
   },
   "source": [
    "## Asthma distribution"
   ]
  },
  {
   "cell_type": "code",
   "execution_count": 10,
   "id": "946458c5-85e9-4e4d-91fe-6bc98dda2087",
   "metadata": {
    "tags": []
   },
   "outputs": [
    {
     "data": {
      "text/plain": [
       "medical_condition  age\n",
       "Asthma             78     32\n",
       "                   55     32\n",
       "                   63     32\n",
       "                   48     31\n",
       "                   64     31\n",
       "                          ..\n",
       "                   50     19\n",
       "                   52     18\n",
       "                   82     17\n",
       "                   85     17\n",
       "                   37     16\n",
       "Name: count, Length: 68, dtype: int64"
      ]
     },
     "execution_count": 10,
     "metadata": {},
     "output_type": "execute_result"
    }
   ],
   "source": [
    "asthma_df = df[df.medical_condition == \"Asthma\"][[\"medical_condition\", \"age\"]]\n",
    "asthma_df.value_counts()"
   ]
  },
  {
   "cell_type": "code",
   "execution_count": null,
   "id": "64ef79e9-f6c8-4f79-a870-ae2a8c7d4ca1",
   "metadata": {
    "tags": []
   },
   "outputs": [],
   "source": [
    "asthma_age = asthma_df[\"Age\"]"
   ]
  },
  {
   "cell_type": "code",
   "execution_count": null,
   "id": "9ada0f40-d35f-4bf0-a24f-4878d4907d36",
   "metadata": {
    "tags": []
   },
   "outputs": [],
   "source": [
    "asthma_age.min()"
   ]
  },
  {
   "cell_type": "code",
   "execution_count": null,
   "id": "c81516ad-bc70-43d2-a0aa-182135dc0669",
   "metadata": {
    "tags": []
   },
   "outputs": [],
   "source": [
    "asthma_age.max()"
   ]
  },
  {
   "cell_type": "code",
   "execution_count": null,
   "id": "29273f39-f711-4d19-876c-6f6293f594bd",
   "metadata": {
    "tags": []
   },
   "outputs": [],
   "source": [
    "ax_asthma = asthma_age.plot(kind=\"kde\", figsize=(10, 5), title=\"Asthma distribution\")\n",
    "ax_asthma.set_xlabel(\"Age\")"
   ]
  },
  {
   "cell_type": "markdown",
   "id": "1681bf9b-de42-480f-a969-a8239b8af24b",
   "metadata": {
    "jp-MarkdownHeadingCollapsed": true,
    "tags": []
   },
   "source": [
    "## Cancer distribution"
   ]
  },
  {
   "cell_type": "code",
   "execution_count": null,
   "id": "6b234749-2e51-43e8-85a9-2608dac54af6",
   "metadata": {
    "tags": []
   },
   "outputs": [],
   "source": [
    "cancer_df = df[df.Medical_Condition == \"Cancer\"]"
   ]
  },
  {
   "cell_type": "code",
   "execution_count": null,
   "id": "05e3b59e-93f3-4c10-a291-e94e4c964949",
   "metadata": {
    "tags": []
   },
   "outputs": [],
   "source": [
    "cancer_age = cancer_df[\"Age\"]"
   ]
  },
  {
   "cell_type": "code",
   "execution_count": null,
   "id": "5673bc0c-2e23-40de-ba64-d1fcff233c67",
   "metadata": {
    "tags": []
   },
   "outputs": [],
   "source": [
    "cancer_age.value_counts()"
   ]
  },
  {
   "cell_type": "code",
   "execution_count": null,
   "id": "ad521bdd-2b26-4c93-b918-bd974d6f6b23",
   "metadata": {
    "tags": []
   },
   "outputs": [],
   "source": [
    "ax_cancer = cancer_age.plot(kind=\"kde\", figsize=(10, 5), title=\"Cancer distribution\")\n",
    "ax_cancer.set_xlabel(\"Age\")"
   ]
  },
  {
   "cell_type": "markdown",
   "id": "f1070f90-9bb9-4b3f-898e-de2183c7494e",
   "metadata": {
    "jp-MarkdownHeadingCollapsed": true,
    "tags": []
   },
   "source": [
    "## Hypertension distribution"
   ]
  },
  {
   "cell_type": "code",
   "execution_count": null,
   "id": "5182ea87-22b3-4144-8e15-ec3dbd657f29",
   "metadata": {
    "tags": []
   },
   "outputs": [],
   "source": [
    "hypertension_df = df[df.medical_condition == \"Hypertension\"]"
   ]
  },
  {
   "cell_type": "code",
   "execution_count": null,
   "id": "d4a76ed9-ce17-4c6e-9550-77a535d1895f",
   "metadata": {
    "tags": []
   },
   "outputs": [],
   "source": [
    "hypertension_age = hypertension_df[\"age\"]"
   ]
  },
  {
   "cell_type": "code",
   "execution_count": null,
   "id": "7b012607-f67c-46ec-8228-2a811b30e1fd",
   "metadata": {
    "tags": []
   },
   "outputs": [],
   "source": [
    "hypertension_age.value_counts()"
   ]
  },
  {
   "cell_type": "code",
   "execution_count": null,
   "id": "0b4c9f83-f4db-4bf8-b074-b32030c96e48",
   "metadata": {
    "tags": []
   },
   "outputs": [],
   "source": [
    "ax_hypertension = hypertension_age.plot(kind=\"kde\", figsize=(10, 5), title=\"Hypertension distribution\")\n",
    "ax_hypertension.set_xlabel(\"Age\")"
   ]
  },
  {
   "cell_type": "markdown",
   "id": "6f28213e-282b-41e6-9b3d-cfff34661651",
   "metadata": {
    "jp-MarkdownHeadingCollapsed": true,
    "tags": []
   },
   "source": [
    "## Arthritis distribution"
   ]
  },
  {
   "cell_type": "code",
   "execution_count": null,
   "id": "16506f81-3170-4190-affa-9fd5b9ccad93",
   "metadata": {
    "tags": []
   },
   "outputs": [],
   "source": [
    "arthritis_df = df[df.medical_condition == \"Arthritis\"]"
   ]
  },
  {
   "cell_type": "code",
   "execution_count": null,
   "id": "949d5508-f1a2-4fef-80ff-6dbcad974766",
   "metadata": {
    "tags": []
   },
   "outputs": [],
   "source": [
    "arthritis_age = arthritis_df[\"age\"]"
   ]
  },
  {
   "cell_type": "code",
   "execution_count": null,
   "id": "91e4ec24-7349-4264-9ebc-7302f65fe750",
   "metadata": {
    "tags": []
   },
   "outputs": [],
   "source": [
    "ax_arthritis = arthritis_age.plot(kind=\"kde\", figsize=(10, 5), title=\"Arthritis distribution\")\n",
    "ax_arthritis.set_xlabel(\"Age\")"
   ]
  },
  {
   "cell_type": "markdown",
   "id": "adb50f51-e7f1-4135-a8c1-3d41f5d0b6d2",
   "metadata": {
    "jp-MarkdownHeadingCollapsed": true,
    "tags": []
   },
   "source": [
    "## Obesity distribution"
   ]
  },
  {
   "cell_type": "code",
   "execution_count": null,
   "id": "db263497-bc0e-4975-aafb-90a19eed68e3",
   "metadata": {
    "tags": []
   },
   "outputs": [],
   "source": [
    "obesity_df = df[df.medical_condition == \"Obesity\"]"
   ]
  },
  {
   "cell_type": "code",
   "execution_count": null,
   "id": "9c5e1d42-21c7-4c68-b00f-30e0044669f0",
   "metadata": {
    "tags": []
   },
   "outputs": [],
   "source": [
    "obesity_age = obesity_df[\"age\"]"
   ]
  },
  {
   "cell_type": "code",
   "execution_count": null,
   "id": "7b649ef6-9a88-4f93-8253-19567c56efaf",
   "metadata": {
    "tags": []
   },
   "outputs": [],
   "source": [
    "ax_obesity = obesity_age.plot(kind=\"kde\", figsize=(10, 5), title=\"Obesity distribution\")\n",
    "ax_obesity.set_xlabel(\"Age\")"
   ]
  },
  {
   "cell_type": "markdown",
   "id": "f57e9448-a876-45c5-8bab-63662f6ee3a1",
   "metadata": {
    "tags": []
   },
   "source": [
    "## Diabetes distribution"
   ]
  },
  {
   "cell_type": "code",
   "execution_count": null,
   "id": "fd35c302-d8e8-4ed3-abad-04ddb3e67161",
   "metadata": {
    "tags": []
   },
   "outputs": [],
   "source": [
    "diabetes_df = df[df.medical_condition == \"Diabetes\"]"
   ]
  },
  {
   "cell_type": "code",
   "execution_count": null,
   "id": "23704324-e84f-4922-af11-f0c2fce4fb88",
   "metadata": {
    "tags": []
   },
   "outputs": [],
   "source": [
    "diabetes_age = diabetes_df[\"age\"]"
   ]
  },
  {
   "cell_type": "code",
   "execution_count": null,
   "id": "d5fd16d0-d083-4556-9ef8-ac1c8a713502",
   "metadata": {
    "tags": []
   },
   "outputs": [],
   "source": [
    "diabetes_ax = diabetes_age.plot(kind=\"kde\", figsize=(10, 5), title=\"Diabetes distribution\")\n",
    "diabetes_ax.set_xlabel(\"Age\")"
   ]
  },
  {
   "cell_type": "markdown",
   "id": "d3f0e5df-2006-4d45-badd-ef3e37aaaae0",
   "metadata": {
    "jp-MarkdownHeadingCollapsed": true,
    "tags": []
   },
   "source": [
    "# Age vs Billing Amount"
   ]
  },
  {
   "cell_type": "code",
   "execution_count": null,
   "id": "a2048099-986c-401d-9c7d-db318daa8459",
   "metadata": {
    "tags": []
   },
   "outputs": [],
   "source": [
    "df.billing_amount.max()"
   ]
  },
  {
   "cell_type": "code",
   "execution_count": null,
   "id": "e82d1d4b-5fb1-4632-a004-d7c70f50652e",
   "metadata": {
    "tags": []
   },
   "outputs": [],
   "source": [
    "df.billing_amount.min()"
   ]
  },
  {
   "cell_type": "code",
   "execution_count": null,
   "id": "d3f63a9e-2683-4745-b075-ebac360be181",
   "metadata": {
    "tags": []
   },
   "outputs": [],
   "source": [
    "df.plot(kind=\"scatter\", x=\"billing_amount\", y=\"age\", figsize=(10, 5), title=\"Age vs Billing amount\")\n",
    "plt.show()"
   ]
  },
  {
   "cell_type": "markdown",
   "id": "ce46ea5e-4d93-421f-91a2-164c951ef721",
   "metadata": {
    "tags": []
   },
   "source": [
    "# Admission type vs Age"
   ]
  },
  {
   "cell_type": "code",
   "execution_count": null,
   "id": "de9047a7-1dce-4fa9-892b-d8eeb6a9f9ee",
   "metadata": {
    "tags": []
   },
   "outputs": [],
   "source": [
    "df[\"admission_type\"].value_counts()"
   ]
  },
  {
   "cell_type": "code",
   "execution_count": 20,
   "id": "7bfe82a2-b118-4d59-a39d-0467ce2156d1",
   "metadata": {
    "tags": []
   },
   "outputs": [],
   "source": [
    "admission_type_groups = df.groupby(\"admission_type\")"
   ]
  },
  {
   "cell_type": "markdown",
   "id": "0f7ff63a-d460-4a26-a83f-ef7264d716e1",
   "metadata": {},
   "source": [
    "## Urgent type vs age"
   ]
  },
  {
   "cell_type": "code",
   "execution_count": 21,
   "id": "b090360c-70d0-4135-a134-d28fd1f0c303",
   "metadata": {
    "tags": []
   },
   "outputs": [],
   "source": [
    "urgent_group = admission_type_groups.get_group(\"Urgent\")"
   ]
  },
  {
   "cell_type": "code",
   "execution_count": 22,
   "id": "ed49322b-cf40-48eb-930d-a72b182d045e",
   "metadata": {
    "tags": []
   },
   "outputs": [
    {
     "data": {
      "text/plain": [
       "Text(0.5, 0, 'Age')"
      ]
     },
     "execution_count": 22,
     "metadata": {},
     "output_type": "execute_result"
    },
    {
     "data": {
      "image/png": "[encoded data removed]",
      "text/plain": [
       "<Figure size 640x480 with 1 Axes>"
      ]
     },
     "metadata": {},
     "output_type": "display_data"
    }
   ],
   "source": [
    "ax_urgent = urgent_group.age.plot(kind=\"kde\", title=\"Urgent admission type vs age\")\n",
    "ax_urgent.set_xlabel(\"Age\")"
   ]
  },
  {
   "cell_type": "markdown",
   "id": "b6574ec5-8963-4359-b9d7-6f0403c53cf9",
   "metadata": {},
   "source": [
    "## Emergency type vs age"
   ]
  },
  {
   "cell_type": "code",
   "execution_count": null,
   "id": "01603031-3d05-44eb-9cc7-3506c4b09cee",
   "metadata": {
    "tags": []
   },
   "outputs": [],
   "source": [
    "emergency_group = admission_type_groups.get_group(\"Emergency\")"
   ]
  },
  {
   "cell_type": "code",
   "execution_count": null,
   "id": "b786efe3-c84b-4c8f-a8a5-aa3f398127e8",
   "metadata": {
    "tags": []
   },
   "outputs": [],
   "source": [
    "ax_emergency = emergency_group.age.plot(kind=\"kde\", title=\"Emergency admission type vs age\")\n",
    "ax_emergency.set_xlabel(\"Age\")"
   ]
  },
  {
   "cell_type": "markdown",
   "id": "1020c8c6-1207-4b7f-b739-0d6d46c43adc",
   "metadata": {},
   "source": [
    "## Elective type vs age"
   ]
  },
  {
   "cell_type": "code",
   "execution_count": null,
   "id": "aabc34f2-a7c4-47e8-9131-71bd5adc62e9",
   "metadata": {
    "tags": []
   },
   "outputs": [],
   "source": [
    "elective_group = admission_type_groups.get_group(\"Elective\")"
   ]
  },
  {
   "cell_type": "code",
   "execution_count": null,
   "id": "6b6c722d-e351-406a-8531-a8374e74d0b8",
   "metadata": {
    "tags": []
   },
   "outputs": [],
   "source": [
    "ax_elective = elective_group.age.plot(kind=\"kde\", title=\"Elective admission type vs age\")\n",
    "ax_elective.set_xlabel(\"Age\")"
   ]
  },
  {
   "cell_type": "markdown",
   "id": "fc2ade52-7b57-449c-ba5f-290d11262149",
   "metadata": {},
   "source": [
    "# Test results vs age"
   ]
  },
  {
   "cell_type": "code",
   "execution_count": 11,
   "id": "b05aa9a1-fc60-4e5b-877d-8891576da8c9",
   "metadata": {
    "tags": []
   },
   "outputs": [
    {
     "data": {
      "text/plain": [
       "test_results\n",
       "Abnormal        3456\n",
       "Inconclusive    3277\n",
       "Normal          3267\n",
       "Name: count, dtype: int64"
      ]
     },
     "execution_count": 11,
     "metadata": {},
     "output_type": "execute_result"
    }
   ],
   "source": [
    "df.test_results.value_counts()"
   ]
  },
  {
   "cell_type": "code",
   "execution_count": 25,
   "id": "1f20052e-5c4f-439f-9614-f3b71e6fd1dc",
   "metadata": {
    "tags": []
   },
   "outputs": [],
   "source": [
    "test_results_groups = df.groupby(\"test_results\")"
   ]
  },
  {
   "cell_type": "code",
   "execution_count": 31,
   "id": "0919690d-ed9a-41e2-9471-530bf6b5435d",
   "metadata": {
    "tags": []
   },
   "outputs": [
    {
     "data": {
      "text/html": [
       "<div>\n",
       "<style scoped>\n",
       "    .dataframe tbody tr th:only-of-type {\n",
       "        vertical-align: middle;\n",
       "    }\n",
       "\n",
       "    .dataframe tbody tr th {\n",
       "        vertical-align: top;\n",
       "    }\n",
       "\n",
       "    .dataframe thead th {\n",
       "        text-align: right;\n",
       "    }\n",
       "</style>\n",
       "<table border=\"1\" class=\"dataframe\">\n",
       "  <thead>\n",
       "    <tr style=\"text-align: right;\">\n",
       "      <th>age</th>\n",
       "      <th>18</th>\n",
       "      <th>19</th>\n",
       "      <th>20</th>\n",
       "      <th>21</th>\n",
       "      <th>22</th>\n",
       "      <th>23</th>\n",
       "      <th>24</th>\n",
       "      <th>25</th>\n",
       "      <th>26</th>\n",
       "      <th>27</th>\n",
       "      <th>...</th>\n",
       "      <th>76</th>\n",
       "      <th>77</th>\n",
       "      <th>78</th>\n",
       "      <th>79</th>\n",
       "      <th>80</th>\n",
       "      <th>81</th>\n",
       "      <th>82</th>\n",
       "      <th>83</th>\n",
       "      <th>84</th>\n",
       "      <th>85</th>\n",
       "    </tr>\n",
       "    <tr>\n",
       "      <th>test_results</th>\n",
       "      <th></th>\n",
       "      <th></th>\n",
       "      <th></th>\n",
       "      <th></th>\n",
       "      <th></th>\n",
       "      <th></th>\n",
       "      <th></th>\n",
       "      <th></th>\n",
       "      <th></th>\n",
       "      <th></th>\n",
       "      <th></th>\n",
       "      <th></th>\n",
       "      <th></th>\n",
       "      <th></th>\n",
       "      <th></th>\n",
       "      <th></th>\n",
       "      <th></th>\n",
       "      <th></th>\n",
       "      <th></th>\n",
       "      <th></th>\n",
       "      <th></th>\n",
       "    </tr>\n",
       "  </thead>\n",
       "  <tbody>\n",
       "    <tr>\n",
       "      <th>Abnormal</th>\n",
       "      <td>59</td>\n",
       "      <td>50</td>\n",
       "      <td>58</td>\n",
       "      <td>46</td>\n",
       "      <td>49</td>\n",
       "      <td>46</td>\n",
       "      <td>46</td>\n",
       "      <td>52</td>\n",
       "      <td>47</td>\n",
       "      <td>40</td>\n",
       "      <td>...</td>\n",
       "      <td>43</td>\n",
       "      <td>53</td>\n",
       "      <td>65</td>\n",
       "      <td>54</td>\n",
       "      <td>34</td>\n",
       "      <td>58</td>\n",
       "      <td>42</td>\n",
       "      <td>43</td>\n",
       "      <td>50</td>\n",
       "      <td>48</td>\n",
       "    </tr>\n",
       "    <tr>\n",
       "      <th>Inconclusive</th>\n",
       "      <td>52</td>\n",
       "      <td>39</td>\n",
       "      <td>55</td>\n",
       "      <td>53</td>\n",
       "      <td>31</td>\n",
       "      <td>69</td>\n",
       "      <td>49</td>\n",
       "      <td>57</td>\n",
       "      <td>49</td>\n",
       "      <td>48</td>\n",
       "      <td>...</td>\n",
       "      <td>57</td>\n",
       "      <td>46</td>\n",
       "      <td>61</td>\n",
       "      <td>44</td>\n",
       "      <td>43</td>\n",
       "      <td>52</td>\n",
       "      <td>50</td>\n",
       "      <td>39</td>\n",
       "      <td>34</td>\n",
       "      <td>39</td>\n",
       "    </tr>\n",
       "    <tr>\n",
       "      <th>Normal</th>\n",
       "      <td>53</td>\n",
       "      <td>43</td>\n",
       "      <td>56</td>\n",
       "      <td>54</td>\n",
       "      <td>43</td>\n",
       "      <td>40</td>\n",
       "      <td>41</td>\n",
       "      <td>40</td>\n",
       "      <td>57</td>\n",
       "      <td>37</td>\n",
       "      <td>...</td>\n",
       "      <td>45</td>\n",
       "      <td>54</td>\n",
       "      <td>48</td>\n",
       "      <td>53</td>\n",
       "      <td>53</td>\n",
       "      <td>49</td>\n",
       "      <td>55</td>\n",
       "      <td>49</td>\n",
       "      <td>49</td>\n",
       "      <td>36</td>\n",
       "    </tr>\n",
       "  </tbody>\n",
       "</table>\n",
       "<p>3 rows × 68 columns</p>\n",
       "</div>"
      ],
      "text/plain": [
       "age           18  19  20  21  22  23  24  25  26  27  ...  76  77  78  79  80  \\\n",
       "test_results                                          ...                       \n",
       "Abnormal      59  50  58  46  49  46  46  52  47  40  ...  43  53  65  54  34   \n",
       "Inconclusive  52  39  55  53  31  69  49  57  49  48  ...  57  46  61  44  43   \n",
       "Normal        53  43  56  54  43  40  41  40  57  37  ...  45  54  48  53  53   \n",
       "\n",
       "age           81  82  83  84  85  \n",
       "test_results                      \n",
       "Abnormal      58  42  43  50  48  \n",
       "Inconclusive  52  50  39  34  39  \n",
       "Normal        49  55  49  49  36  \n",
       "\n",
       "[3 rows x 68 columns]"
      ]
     },
     "execution_count": 31,
     "metadata": {},
     "output_type": "execute_result"
    }
   ],
   "source": [
    "age_groups = test_results_groups[\"age\"].value_counts().unstack()\n",
    "age_groups"
   ]
  },
  {
   "cell_type": "code",
   "execution_count": 35,
   "id": "80600da6-eedf-4092-95ad-d4471df46742",
   "metadata": {},
   "outputs": [
    {
     "data": {
      "image/png": "[encoded data removed]",
      "text/plain": [
       "<Figure size 1600x400 with 3 Axes>"
      ]
     },
     "metadata": {},
     "output_type": "display_data"
    }
   ],
   "source": [
    "fig, axes = plt.subplots(nrows=1, ncols=len(age_groups), figsize=(16, 4))\n",
    "\n",
    "for idx, (result, counts) in enumerate(age_groups.iterrows()):\n",
    "    counts.plot(kind=\"kde\", ax=axes[idx], color=[\"r\", \"g\"])\n",
    "    axes[idx].set_title(f\"{result} test result\")\n",
    "    axes[idx].set_xlabel(\"Age\")\n",
    "    axes[idx].set_ylabel(\"Count\")"
   ]
  }
 ],
 "metadata": {
  "kernelspec": {
   "display_name": "Python 3 (ipykernel)",
   "language": "python",
   "name": "python3"
  },
  "language_info": {
   "codemirror_mode": {
    "name": "ipython",
    "version": 3
   },
   "file_extension": ".py",
   "mimetype": "text/x-python",
   "name": "python",
   "nbconvert_exporter": "python",
   "pygments_lexer": "ipython3",
   "version": "3.11.5"
  }
 },
 "nbformat": 4,
 "nbformat_minor": 5
}
